{
 "cells": [
  {
   "cell_type": "markdown",
   "metadata": {},
   "source": [
    "## Example of how to use NeqSim for oil and gas processing\n"
   ]
  },
  {
   "cell_type": "code",
   "execution_count": 1,
   "metadata": {},
   "outputs": [],
   "source": [
    "import neqsim\n",
    "from neqsim.thermo.thermoTools import *\n",
    "from neqsim.process.processTools import *\n"
   ]
  },
  {
   "cell_type": "markdown",
   "metadata": {},
   "source": [
    "1. Create a well stream for a typical gas-condensate well stream"
   ]
  },
  {
   "cell_type": "code",
   "execution_count": 4,
   "metadata": {},
   "outputs": [
    {
     "name": "stdout",
     "output_type": "stream",
     "text": [
      "                       0           1                  2 3 4 5                6\n",
      "0                              total                OIL                       \n",
      "1                  water  4.40709E-3         4.40709E-3        [mole fraction]\n",
      "2               nitrogen  7.01888E-4         7.01888E-4        [mole fraction]\n",
      "3                    CO2   1.0004E-2          1.0004E-2        [mole fraction]\n",
      "4                methane  1.70793E-1         1.70793E-1        [mole fraction]\n",
      "5                 ethane  8.02149E-2         8.02149E-2        [mole fraction]\n",
      "6                propane  8.93794E-2         8.93794E-2        [mole fraction]\n",
      "7               i-butane  8.87988E-2         8.87988E-2        [mole fraction]\n",
      "8               n-butane  7.27956E-2         7.27956E-2        [mole fraction]\n",
      "9              i-pentane  5.57328E-2         5.57328E-2        [mole fraction]\n",
      "10             n-pentane  6.25305E-2         6.25305E-2        [mole fraction]\n",
      "11                 C6_PC  1.57144E-1         1.57144E-1        [mole fraction]\n",
      "12                 C7_PC  6.21577E-2         6.21577E-2        [mole fraction]\n",
      "13                 C8_PC  5.42687E-2         5.42687E-2        [mole fraction]\n",
      "14                 C9_PC  6.98588E-2         6.98588E-2        [mole fraction]\n",
      "15                C10_PC  2.12135E-2         2.12135E-2        [mole fraction]\n",
      "16                                                                            \n",
      "17               Density                      6.05351E2                  kg/m3\n",
      "18        Phase Fraction                            1E0        [mole fraction]\n",
      "19            Molar Mass  6.79536E-2         6.79536E-2                 kg/mol\n",
      "20              Z factor                     2.26288E-1                    [-]\n",
      "21    Heat Capacity (Cp)                      2.46269E0                 kJ/kgK\n",
      "22    Heat Capacity (Cv)                      1.92539E0                 kJ/kgK\n",
      "23        Speed of Sound                      7.05169E2                  m/sec\n",
      "24              Enthalpy  -2.72127E5         -2.72127E5                   J/kg\n",
      "25               Entropy  -6.55488E2         -6.55488E2                  J/kgK\n",
      "26        JT coefficient                    -2.36319E-2                  C/bar\n",
      "27                                                                            \n",
      "28             Viscosity                     1.72665E-4                kg/msec\n",
      "29  Thermal Conductivity                     9.50053E-2                   W/mK\n",
      "30       Surface Tension                                                 [N/m]\n",
      "31                                                                            \n",
      "32                                                                            \n",
      "33                                                                            \n",
      "34              Pressure                           55.0                   bara\n",
      "35           Temperature              54.99999999999994                      C\n",
      "36                                                                            \n",
      "37                 Model                        SRK-EOS                      -\n",
      "38           Mixing Rule                        classic                      -\n",
      "39                                                                            \n",
      "40                Stream                                                     -\n",
      "41                                                                            \n",
      "42                                                                            \n",
      "43                                                                            \n",
      "44                                                                            \n"
     ]
    }
   ],
   "source": [
    "fluid1 = fluid('srk')\n",
    "fluid1.addComponent('water', 2.7)\n",
    "fluid1.addComponent('nitrogen', 0.7)\n",
    "fluid1.addComponent('CO2', 2.1)\n",
    "fluid1.addComponent('methane', 70.0)\n",
    "fluid1.addComponent('ethane', 10.0)\n",
    "fluid1.addComponent('propane', 5.0)\n",
    "fluid1.addComponent('i-butane', 3.0)\n",
    "fluid1.addComponent('n-butane', 2.0)\n",
    "fluid1.addComponent('i-pentane', 1.0)\n",
    "fluid1.addComponent('n-pentane', 1.0)\n",
    "# adding oil component mol/ molar mass (kg/mol) / relative density (gr/gr)\n",
    "fluid1.addTBPfraction('C6', 1.49985, 86.3 / 1000.0, 0.7432)\n",
    "fluid1.addTBPfraction('C7', 0.49985, 103.3 / 1000.0, 0.76432)\n",
    "fluid1.addTBPfraction('C8', 0.39985, 125.0 / 1000.0, 0.78432)\n",
    "fluid1.addTBPfraction('C9', 0.49985, 145.0 / 1000.0, 0.79432)\n",
    "fluid1.addTBPfraction('C10', 0.149985, 165.0 / 1000.0, 0.81)\n",
    "fluid1.setMixingRule('classic')\n",
    "fluid1.setMultiPhaseCheck(True)\n",
    "\n",
    "fluid1.setTemperature(55.0, 'C')\n",
    "fluid1.setPressure(55.0, 'bara')\n",
    "TPflash(fluid1)\n",
    "\n",
    "clearProcess()\n",
    "feedStream = stream(\"feed fluid\", fluid1)\n",
    "separator1 = separator3phase('seå 1', feedStream)\n",
    "oilstream1 = separator1.getLiquidOutStream()\n",
    "valve1 = valve('valv1', oilstream1, 10.0)\n",
    "runProcess()\n",
    "\n",
    "printFrame(oilstream1.getFluid())\n"
   ]
  }
 ],
 "metadata": {
  "kernelspec": {
   "display_name": "Python 3",
   "language": "python",
   "name": "python3"
  },
  "language_info": {
   "codemirror_mode": {
    "name": "ipython",
    "version": 3
   },
   "file_extension": ".py",
   "mimetype": "text/x-python",
   "name": "python",
   "nbconvert_exporter": "python",
   "pygments_lexer": "ipython3",
   "version": "3.10.16"
  }
 },
 "nbformat": 4,
 "nbformat_minor": 2
}
