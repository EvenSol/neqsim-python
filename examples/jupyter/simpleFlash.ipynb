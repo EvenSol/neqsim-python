{
 "cells": [
  {
   "cell_type": "markdown",
   "metadata": {},
   "source": [
    "## Example of how to use NeqSim for oil and gas processing\n"
   ]
  },
  {
   "cell_type": "code",
   "execution_count": 1,
   "metadata": {},
   "outputs": [],
   "source": [
    "import neqsim\n",
    "from neqsim.thermo.thermoTools import *\n",
    "from neqsim.process.processTools import *\n"
   ]
  },
  {
   "cell_type": "markdown",
   "metadata": {},
   "source": [
    "1. Create a well stream for a typical gas-condensate well stream"
   ]
  },
  {
   "cell_type": "code",
   "execution_count": 2,
   "metadata": {},
   "outputs": [
    {
     "name": "stdout",
     "output_type": "stream",
     "text": [
      "                         total         oil                   \n",
      "             water  4.39785E-3  4.39785E-3    [mole fraction]\n",
      "          nitrogen  7.09893E-4  7.09893E-4    [mole fraction]\n",
      "               CO2  1.00456E-2  1.00456E-2    [mole fraction]\n",
      "           methane  1.72078E-1  1.72078E-1    [mole fraction]\n",
      "            ethane  8.05144E-2  8.05144E-2    [mole fraction]\n",
      "           propane  8.95376E-2  8.95376E-2    [mole fraction]\n",
      "          i-butane  8.88836E-2  8.88836E-2    [mole fraction]\n",
      "          n-butane  7.27659E-2  7.27659E-2    [mole fraction]\n",
      "         i-pentane  5.56419E-2  5.56419E-2    [mole fraction]\n",
      "         n-pentane  6.23861E-2  6.23861E-2    [mole fraction]\n",
      "             C6_PC  1.56711E-1  1.56711E-1    [mole fraction]\n",
      "             C7_PC  6.18607E-2  6.18607E-2    [mole fraction]\n",
      "             C8_PC  5.39536E-2  5.39536E-2    [mole fraction]\n",
      "             C9_PC  6.94317E-2  6.94317E-2    [mole fraction]\n",
      "            C10_PC  2.10817E-2  2.10817E-2    [mole fraction]\n",
      "                                                             \n",
      "           Density               6.03969E2           [kg/m^3]\n",
      "     PhaseFraction                     1E0    [mole fraction]\n",
      "         MolarMass   6.77873E1   6.77873E1          [kg/kmol]\n",
      "          Z factor              2.45511E-1                [-]\n",
      "Heat Capacity (Cp)               2.47443E0          [kJ/kg*K]\n",
      "Heat Capacity (Cv)               1.93545E0          [kJ/kg*K]\n",
      "    Speed of Sound               7.04037E2            [m/sec]\n",
      "          Enthalpy  -2.71505E2  -2.71505E2            [kJ/kg]\n",
      "           Entropy -6.54047E-1 -6.54047E-1          [kJ/kg*K]\n",
      "    JT coefficient             -2.35673E-2            [K/bar]\n",
      "                                                             \n",
      "         Viscosity              1.71553E-4         [kg/m*sec]\n",
      "      Conductivity               9.4728E-2            [W/m*K]\n",
      "    SurfaceTension                                      [N/m]\n",
      "                                                             \n",
      "                                                             \n",
      "                                                             \n",
      "          Pressure                    55.0              [bar]\n",
      "       Temperature                  328.15                [K]\n",
      "                                                             \n",
      "             Model                 SRK-EOS                  -\n",
      "       Mixing Rule                 classic                  -\n",
      "                                                             \n",
      "            Stream                                          -\n",
      "                                                             \n",
      "                                                             \n",
      "                                                             \n",
      "                                                             \n"
     ]
    }
   ],
   "source": [
    "fluid1 = fluid('srk')\n",
    "fluid1.addComponent('water', 2.7)\n",
    "fluid1.addComponent('nitrogen', 0.7)\n",
    "fluid1.addComponent('CO2', 2.1)\n",
    "fluid1.addComponent('methane', 70.0)\n",
    "fluid1.addComponent('ethane', 10.0)\n",
    "fluid1.addComponent('propane', 5.0)\n",
    "fluid1.addComponent('i-butane', 3.0)\n",
    "fluid1.addComponent('n-butane', 2.0)\n",
    "fluid1.addComponent('i-pentane', 1.0)\n",
    "fluid1.addComponent('n-pentane', 1.0)\n",
    "# adding oil component mol/ molar mass (kg/mol) / relative density (gr/gr)\n",
    "fluid1.addTBPfraction('C6', 1.49985, 86.3 / 1000.0, 0.7432)\n",
    "fluid1.addTBPfraction('C7', 0.49985, 103.3 / 1000.0, 0.76432)\n",
    "fluid1.addTBPfraction('C8', 0.39985, 125.0 / 1000.0, 0.78432)\n",
    "fluid1.addTBPfraction('C9', 0.49985, 145.0 / 1000.0, 0.79432)\n",
    "fluid1.addTBPfraction('C10', 0.149985, 165.0 / 1000.0, 0.81)\n",
    "fluid1.setMixingRule('classic')\n",
    "fluid1.setMultiPhaseCheck(True)\n",
    "\n",
    "fluid1.setTemperature(55.0, 'C')\n",
    "fluid1.setPressure(55.0, 'bara')\n",
    "TPflash(fluid1)\n",
    "\n",
    "clearProcess()\n",
    "feedStream = stream(fluid1, \"feed fluid\")\n",
    "separator1 = separator3phase(feedStream)\n",
    "oilstream1 = separator1.getLiquidOutStream()\n",
    "valve1 = valve(oilstream1, 10.0, 'valv1')\n",
    "runProcess()\n",
    "\n",
    "printFrame(oilstream1.getFluid())\n"
   ]
  }
 ],
 "metadata": {
  "kernelspec": {
   "display_name": "Python 3.9.9 64-bit ('3.9.9')",
   "language": "python",
   "name": "python3"
  },
  "language_info": {
   "codemirror_mode": {
    "name": "ipython",
    "version": 3
   },
   "file_extension": ".py",
   "mimetype": "text/x-python",
   "name": "python",
   "nbconvert_exporter": "python",
   "pygments_lexer": "ipython3",
   "version": "3.9.9"
  },
  "vscode": {
   "interpreter": {
    "hash": "4ba6f98cb0310955db44ebb7b01f232ba27fa841a671ff9eb55769e6a89a3e8b"
   }
  }
 },
 "nbformat": 4,
 "nbformat_minor": 2
}
