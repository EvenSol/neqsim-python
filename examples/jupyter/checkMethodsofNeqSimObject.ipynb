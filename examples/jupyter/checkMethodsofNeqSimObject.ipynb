{
 "cells": [
  {
   "cell_type": "code",
   "execution_count": 7,
   "metadata": {},
   "outputs": [],
   "source": [
    "from neqsim import jNeqSim\n",
    "from neqsim import methods"
   ]
  },
  {
   "cell_type": "code",
   "execution_count": 8,
   "metadata": {},
   "outputs": [
    {
     "name": "stdout",
     "output_type": "stream",
     "text": [
      "main\n",
      "execute\n",
      "openConnection\n",
      "createTemporaryTables\n",
      "setCreateTemporaryTables\n",
      "getConnection\n",
      "getResultSet\n",
      "executeQuery\n",
      "getDataBaseType\n",
      "setDataBaseType\n",
      "setDataBaseType\n",
      "getStatement\n",
      "setStatement\n",
      "setUsername\n",
      "setPassword\n",
      "getConnectionString\n",
      "setConnectionString\n",
      "getComponentNames\n",
      "hasComponent\n",
      "initH2DatabaseFromCSVfiles\n",
      "wait\n",
      "wait\n",
      "wait\n",
      "equals\n",
      "toString\n",
      "hashCode\n",
      "getClass\n",
      "notify\n",
      "notifyAll\n"
     ]
    }
   ],
   "source": [
    "methods(jNeqSim.util.database.NeqSimDataBase())"
   ]
  },
  {
   "cell_type": "code",
   "execution_count": 10,
   "metadata": {},
   "outputs": [
    {
     "name": "stdout",
     "output_type": "stream",
     "text": [
      "(0, 0, 0)\n"
     ]
    },
    {
     "ename": "OSError",
     "evalue": "JVM cannot be restarted",
     "output_type": "error",
     "traceback": [
      "\u001b[0;31m---------------------------------------------------------------------------\u001b[0m",
      "\u001b[0;31mOSError\u001b[0m                                   Traceback (most recent call last)",
      "Cell \u001b[0;32mIn[10], line 6\u001b[0m\n\u001b[1;32m      4\u001b[0m \u001b[39mprint\u001b[39m(jvmVersion)\n\u001b[1;32m      5\u001b[0m jpype\u001b[39m.\u001b[39maddClassPath(\u001b[39m'\u001b[39m\u001b[39m./lib/*\u001b[39m\u001b[39m'\u001b[39m)\n\u001b[0;32m----> 6\u001b[0m jpype\u001b[39m.\u001b[39;49mstartJVM(convertStrings\u001b[39m=\u001b[39;49m\u001b[39mFalse\u001b[39;49;00m)\n",
      "File \u001b[0;32m/usr/local/lib/python3.10/site-packages/jpype/_core.py:169\u001b[0m, in \u001b[0;36mstartJVM\u001b[0;34m(*args, **kwargs)\u001b[0m\n\u001b[1;32m    167\u001b[0m \u001b[39mglobal\u001b[39;00m _JVM_started\n\u001b[1;32m    168\u001b[0m \u001b[39mif\u001b[39;00m _JVM_started:\n\u001b[0;32m--> 169\u001b[0m     \u001b[39mraise\u001b[39;00m \u001b[39mOSError\u001b[39;00m(\u001b[39m'\u001b[39m\u001b[39mJVM cannot be restarted\u001b[39m\u001b[39m'\u001b[39m)\n\u001b[1;32m    171\u001b[0m args \u001b[39m=\u001b[39m \u001b[39mlist\u001b[39m(args)\n\u001b[1;32m    173\u001b[0m \u001b[39m# JVM path\u001b[39;00m\n",
      "\u001b[0;31mOSError\u001b[0m: JVM cannot be restarted"
     ]
    }
   ],
   "source": [
    "import jpype\n",
    "jpype.shutdownJVM()\n",
    "jvmVersion = jpype.getJVMVersion()\n",
    "print(jvmVersion)\n",
    "jpype.addClassPath('./lib/*')\n",
    "jpype.startJVM(convertStrings=False)"
   ]
  }
 ],
 "metadata": {
  "kernelspec": {
   "display_name": "Python 3",
   "language": "python",
   "name": "python3"
  },
  "language_info": {
   "codemirror_mode": {
    "name": "ipython",
    "version": 3
   },
   "file_extension": ".py",
   "mimetype": "text/x-python",
   "name": "python",
   "nbconvert_exporter": "python",
   "pygments_lexer": "ipython3",
   "version": "3.10.10"
  },
  "orig_nbformat": 4
 },
 "nbformat": 4,
 "nbformat_minor": 2
}
