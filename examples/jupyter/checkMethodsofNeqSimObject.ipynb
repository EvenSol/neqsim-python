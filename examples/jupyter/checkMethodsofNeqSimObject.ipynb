{
 "cells": [
  {
   "cell_type": "code",
   "execution_count": 3,
   "metadata": {},
   "outputs": [],
   "source": [
    "from neqsim import jNeqSim\n",
    "from neqsim import methods"
   ]
  },
  {
   "cell_type": "code",
   "execution_count": 5,
   "metadata": {},
   "outputs": [
    {
     "name": "stdout",
     "output_type": "stream",
     "text": [
      "main\n",
      "execute\n",
      "openConnection\n",
      "createTemporaryTables\n",
      "setCreateTemporaryTables\n",
      "getConnection\n",
      "getResultSet\n",
      "executeQuery\n",
      "getDataBaseType\n",
      "setDataBaseType\n",
      "setDataBaseType\n",
      "getStatement\n",
      "setStatement\n",
      "setUsername\n",
      "setPassword\n",
      "getConnectionString\n",
      "setConnectionString\n",
      "getComponentNames\n",
      "hasComponent\n",
      "initH2DatabaseFromCSVfiles\n",
      "wait\n",
      "wait\n",
      "wait\n",
      "equals\n",
      "toString\n",
      "hashCode\n",
      "getClass\n",
      "notify\n",
      "notifyAll\n"
     ]
    }
   ],
   "source": [
    "methods(jNeqSim.util.database.NeqSimDataBase())"
   ]
  }
 ],
 "metadata": {
  "kernelspec": {
   "display_name": "Python 3",
   "language": "python",
   "name": "python3"
  },
  "language_info": {
   "codemirror_mode": {
    "name": "ipython",
    "version": 3
   },
   "file_extension": ".py",
   "mimetype": "text/x-python",
   "name": "python",
   "nbconvert_exporter": "python",
   "pygments_lexer": "ipython3",
   "version": "3.10.10"
  },
  "orig_nbformat": 4
 },
 "nbformat": 4,
 "nbformat_minor": 2
}
