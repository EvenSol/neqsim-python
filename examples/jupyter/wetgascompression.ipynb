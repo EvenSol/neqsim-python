{
 "cells": [
  {
   "cell_type": "markdown",
   "metadata": {},
   "source": [
    "# Example of wet gas compression simulation"
   ]
  },
  {
   "cell_type": "code",
   "execution_count": 1,
   "metadata": {},
   "outputs": [],
   "source": [
    "from neqsim.thermo.thermoTools import fluid_df, TPflash, printFrame\n",
    "from neqsim.process import stream,  compressor\n",
    "import pandas as pd"
   ]
  },
  {
   "cell_type": "code",
   "execution_count": 2,
   "metadata": {},
   "outputs": [
    {
     "name": "stdout",
     "output_type": "stream",
     "text": [
      "   ComponentName  MolarComposition[-]  MolarMass[kg/mol]  RelativeDensity[-]\n",
      "0       nitrogen                 0.53                NaN                 NaN\n",
      "1            CO2                 3.30                NaN                 NaN\n",
      "2        methane                72.98                NaN                 NaN\n",
      "3         ethane                 7.68                NaN                 NaN\n",
      "4        propane                 4.10                NaN                 NaN\n",
      "5       i-butane                 0.70                NaN                 NaN\n",
      "6       n-butane                 1.42                NaN                 NaN\n",
      "7      i-pentane                 0.54                NaN                 NaN\n",
      "8      n-pentane                 0.67                NaN                 NaN\n",
      "9       n-hexane                 0.85                NaN                 NaN\n",
      "10            C7                 1.33             0.0913               0.746\n",
      "11            C8                 1.33             0.1041               0.768\n",
      "12            C9                 0.78             0.1188               0.790\n",
      "13           C10                 0.61             0.1360               0.787\n",
      "14           C11                 0.42             0.1500               0.793\n",
      "15           C12                 0.33             0.1640               0.804\n",
      "16           C13                 0.42             0.1790               0.817\n",
      "17           C14                 0.24             0.1880               0.830\n",
      "18           C15                 0.30             0.2040               0.835\n",
      "19           C16                 0.17             0.2160               0.843\n",
      "20           C17                 0.21             0.2360               0.837\n",
      "21           C18                 0.15             0.2530               0.840\n",
      "22           C19                 0.15             0.2700               0.850\n",
      "23           C20                 0.10             0.3910               0.877\n"
     ]
    }
   ],
   "source": [
    "gascondensate = {'ComponentName':  [\"nitrogen\", \"CO2\", \"methane\", \"ethane\", \"propane\", \"i-butane\", \"n-butane\", \"i-pentane\", \"n-pentane\", \"n-hexane\", \"C7\", \"C8\", \"C9\", \"C10\", \"C11\", \"C12\", \"C13\", \"C14\", \"C15\", \"C16\", \"C17\", \"C18\", \"C19\", \"C20\"], \n",
    "        'MolarComposition[-]':  [0.53, 3.3, 72.98, 7.68, 4.1, 0.7, 1.42, 0.54, 0.67, 0.85, 1.33, 1.33, 0.78, 0.61, 0.42, 0.33, 0.42, 0.24, 0.3, 0.17, 0.21, 0.15, 0.15, 0.1], \n",
    "        'MolarMass[kg/mol]': [None,None, None,None,None,None,None,None,None,None,0.0913, 0.1041, 0.1188, 0.136, 0.150, 0.164, 0.179, 0.188, 0.204, 0.216, 0.236, 0.253, 0.27, 0.391],\n",
    "        'RelativeDensity[-]': [None,None, None,None,None,None,None,None,None,None, 0.746, 0.768, 0.79, 0.787, 0.793, 0.804, 0.817, 0.83, 0.835, 0.843, 0.837, 0.84, 0.85, 0.877]\n",
    "  } \n",
    "\n",
    "gascondensatedf = pd.DataFrame(gascondensate) \n",
    "print(gascondensatedf.head(30).to_string())\n",
    "gascondensateFluid = fluid_df(gascondensatedf, lastIsPlusFraction=False)"
   ]
  },
  {
   "cell_type": "code",
   "execution_count": 3,
   "metadata": {},
   "outputs": [
    {
     "name": "stdout",
     "output_type": "stream",
     "text": [
      "                        total         gas         oil                  \n",
      "          nitrogen 5.33682E−3  5.66656E−3  7.50442E−6   [mole fraction]\n",
      "               CO2 3.32293E−2  3.52541E−2  5.02874E−4   [mole fraction]\n",
      "           methane 7.34871E−1  7.80104E−1  3.78439E−3   [mole fraction]\n",
      "            ethane 7.73336E−2  8.19649E−2  2.48024E−3   [mole fraction]\n",
      "           propane 4.12849E−2  4.35366E−2  4.89104E−3   [mole fraction]\n",
      "          i-butane 7.04864E−3  7.35848E−3  2.04086E−3   [mole fraction]\n",
      "          n-butane 1.42987E−2  1.48035E−2  6.14002E−3   [mole fraction]\n",
      "         i-pentane 5.43752E−3  5.41677E−3   5.7728E−3   [mole fraction]\n",
      "         n-pentane 6.74655E−3  6.57672E−3  9.49141E−3   [mole fraction]\n",
      "          n-hexane 8.55906E−3   6.9875E−3  3.39592E−2   [mole fraction]\n",
      "             C7_PC 1.33924E−2  7.27513E−3  1.12263E−1   [mole fraction]\n",
      "             C8_PC 1.33924E−2  3.85672E−3  1.67513E−1   [mole fraction]\n",
      "             C9_PC 7.85419E−3   8.8766E−4   1.2045E−1   [mole fraction]\n",
      "            C10_PC 6.14238E−3  2.23436E−4  1.01807E−1   [mole fraction]\n",
      "            C11_PC 4.22918E−3  5.91804E−5  7.16266E−2   [mole fraction]\n",
      "            C12_PC 3.32293E−3  1.74146E−5  5.67481E−2   [mole fraction]\n",
      "            C13_PC 4.22918E−3  7.62883E−6  7.24598E−2   [mole fraction]\n",
      "            C14_PC 2.41668E−3  2.22697E−6  4.14401E−2   [mole fraction]\n",
      "            C15_PC 3.02084E−3   9.2175E−7  5.18302E−2   [mole fraction]\n",
      "            C16_PC 1.71181E−3  2.21612E−7  2.93753E−2   [mole fraction]\n",
      "            C17_PC 2.11459E−3  7.33687E−8  3.62904E−2   [mole fraction]\n",
      "            C18_PC 1.51042E−3  1.61664E−8  2.59223E−2   [mole fraction]\n",
      "            C19_PC 1.51042E−3  4.70072E−9  2.59225E−2   [mole fraction]\n",
      "            C20_PC 1.00695E−3 6.26433E−13  1.72817E−2   [mole fraction]\n",
      "                                                                       \n",
      "           Density             9.14065E−1   7.91398E2          [kg/m^3]\n",
      "     PhaseFraction             9.41733E−1  5.82667E−2   [mole fraction]\n",
      "         MolarMass  2.98496E1   2.25809E1   1.47329E2         [kg/kmol]\n",
      "          Z factor              9.9661E−1   8.7052E−3               [-]\n",
      "Heat Capacity (Cp)              1.92559E0   2.06892E0         [kJ/kg*K]\n",
      "Heat Capacity (Cv)              1.55132E0   1.87953E0         [kJ/kg*K]\n",
      "    Speed of Sound              3.67891E2   1.18221E3           [m/sec]\n",
      "          Enthalpy −6.57761E1   4.57757E1  −3.42113E2           [kJ/kg]\n",
      "           Entropy 1.91439E−1  5.13892E−1 −6.07345E−1         [kJ/kg*K]\n",
      "    JT coefficient             6.60639E−1 −5.58669E−2           [K/bar]\n",
      "                                                                       \n",
      "         Viscosity             1.09632E−5  1.20663E−3        [kg/m*sec]\n",
      "      Conductivity             2.93322E−2  1.19157E−1           [W/m*K]\n",
      "    SurfaceTension             2.20633E−2  2.20633E−2             [N/m]\n",
      "                                                                       \n",
      "                                                                       \n",
      "                                                                       \n",
      "          Pressure                    1.0         1.0             [bar]\n",
      "       Temperature                 298.15      298.15               [K]\n",
      "                                                                       \n",
      "             Model                SRK-EOS     SRK-EOS                 -\n",
      "       Mixing Rule                classic     classic                 -\n",
      "                                                                       \n",
      "            Stream                                                    -\n",
      "                                                                       \n",
      "                                                                       \n",
      "                                                                       \n",
      "                                                                       \n"
     ]
    }
   ],
   "source": [
    "TPflash(gascondensateFluid)\n",
    "printFrame(gascondensateFluid)"
   ]
  },
  {
   "cell_type": "code",
   "execution_count": 4,
   "metadata": {},
   "outputs": [
    {
     "name": "stdout",
     "output_type": "stream",
     "text": [
      "Feed GOR  14.781135927208284\n",
      "GOR fitted  98.99999999996334\n",
      "GVF fitted  0.9899999999999963\n",
      "Compressor power  8.67755032331081  MW\n",
      "Polytropic efficiency  0.7944169070839061  [-]\n",
      "Polytropic fluid head  94.35982953593481  kJ/kg\n"
     ]
    }
   ],
   "source": [
    "from neqsim.process import stream,  compressor, runProcess,clearProcess,GORfitter\n",
    "\n",
    "pressure_inlet = 65.0 \n",
    "temperature_inlet = 35.0\n",
    "\n",
    "pressure_Out = 150.0\n",
    "temperature_out = 99.0 \n",
    "\n",
    "clearProcess()\n",
    "inletStream  = stream(gascondensateFluid) \n",
    "inletStream.setTemperature(temperature_inlet, 'C')\n",
    "inletStream.setPressure(pressure_inlet, 'bara')\n",
    "inletStream.setFlowRate(5.0, 'MSm3/day')\n",
    "\n",
    "GORfitter1 = GORfitter(inletStream)\n",
    "#GORfitter1.setGOR(2.0)\n",
    "GORfitter1.setGVF(0.99)\n",
    "GORfitter1.setReferenceConditions('actual')\n",
    "\n",
    "compressor1 = compressor(GORfitter1.getOutStream())\n",
    "compressor1.setOutletPressure(pressure_Out)\n",
    "compressor1.setUsePolytropicCalc(True)\n",
    "compressor1.setOutTemperature(temperature_out+273.15)\n",
    "runProcess()\n",
    "\n",
    "print('Feed GOR ', inletStream.getFluid().getPhase('gas').getCorrectedVolume()/inletStream.getFluid().getPhase('oil').getCorrectedVolume())\n",
    "print('GOR fitted ', GORfitter1.getOutStream().getFluid().getPhase('gas').getCorrectedVolume()/GORfitter1.getOutStream().getFluid().getPhase('oil').getCorrectedVolume())\n",
    "print('GVF fitted ', GORfitter1.getOutStream().getFluid().getPhase('gas').getCorrectedVolume()/(GORfitter1.getOutStream().getFluid().getPhase('oil').getCorrectedVolume()+GORfitter1.getOutStream().getFluid().getPhase('gas').getCorrectedVolume()))\n",
    "\n",
    "print('Compressor power ', compressor1.getPower()/1e6, ' MW')\n",
    "print('Polytropic efficiency ', compressor1.getPolytropicEfficiency() , ' [-]')\n",
    "print('Polytropic fluid head ', compressor1.getPolytropicFluidHead(), ' kJ/kg')\n"
   ]
  }
 ],
 "metadata": {
  "interpreter": {
   "hash": "a5df7bd4ca0d6bb9986d9d69faf4f6c25893f82bf7982e9868ee8495bd8c927f"
  },
  "kernelspec": {
   "display_name": "Python 3.7.9 64-bit ('base': conda)",
   "language": "python",
   "name": "python3"
  },
  "language_info": {
   "codemirror_mode": {
    "name": "ipython",
    "version": 3
   },
   "file_extension": ".py",
   "mimetype": "text/x-python",
   "name": "python",
   "nbconvert_exporter": "python",
   "pygments_lexer": "ipython3",
   "version": "3.7.9"
  },
  "orig_nbformat": 4
 },
 "nbformat": 4,
 "nbformat_minor": 2
}
