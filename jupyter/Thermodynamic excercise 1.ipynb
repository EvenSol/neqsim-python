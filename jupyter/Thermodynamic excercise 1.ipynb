{
 "cells": [
  {
   "cell_type": "markdown",
   "metadata": {},
   "source": [
    "# NeqSim excercise in thermodynamics "
   ]
  },
  {
   "cell_type": "code",
   "execution_count": 1,
   "metadata": {},
   "outputs": [],
   "source": [
    "import neqsim\n",
    "from neqsim.thermo.thermoTools import *\n",
    "\n",
    "import matplotlib\n",
    "import numpy as np\n",
    "import matplotlib.pyplot as plt\n",
    "import math\n",
    "%matplotlib inline"
   ]
  },
  {
   "cell_type": "markdown",
   "metadata": {},
   "source": [
    "## Calculation of boiling point of pure components.\n",
    "Calculate the boiling point temperature of pure methane, propane and n-heptane at 1 atm. \n",
    "Draw the boiling point temperatrure line of the pure components between 1 atm. and 10 bar."
   ]
  },
  {
   "cell_type": "code",
   "execution_count": 2,
   "metadata": {},
   "outputs": [
    {
     "name": "stdout",
     "output_type": "stream",
     "text": [
      "methane buble point temperature  -161.14414719123826  at pressure  1.01325\n",
      "methane entalpy of vaporization  (404.82553984023104, ' kJ/kg')\n"
     ]
    },
    {
     "data": {
      "text/plain": [
       "Text(0, 0.5, 'Pressure [bara]')"
      ]
     },
     "execution_count": 2,
     "metadata": {},
     "output_type": "execute_result"
    },
    {
     "data": {
      "image/png": "[encoded data removed]",
      "text/plain": [
       "<Figure size 432x288 with 1 Axes>"
      ]
     },
     "metadata": {
      "needs_background": "light"
     },
     "output_type": "display_data"
    }
   ],
   "source": [
    "fluid1 = fluid('srk') #create a fluid using the SRK-EoS\n",
    "fluid1.addComponent('methane', 1.0) #adding 1 mole methane to the fluid\n",
    "fluid1.setTemperature(111.0) # setting an initial temperature of -160 deg C\n",
    "fluid1.setPressure(1.01325)#\n",
    "bubt(fluid1)\n",
    "print('methane buble point temperature ', fluid1.getTemperature('C'), \" at pressure \", fluid1.getPressure('bara'))\n",
    "print('methane entalpy of vaporization ', (fluid1.getPhase('gas').getEnthalpy('kJ/kg')-fluid1.getPhase('oil').getEnthalpy('kJ/kg'), ' kJ/kg'))\n",
    "\n",
    "def bubleP(pressure):\n",
    "    fluid1.setPressure(pressure)\n",
    "    bubt(fluid1)\n",
    "    return fluid1.getTemperature('C')\n",
    "\n",
    "pressure = np.arange(1.0, 11.0, 1.0)\n",
    "temperature = [bubleP(P) for P in pressure]\n",
    "\n",
    "plt.plot(temperature, pressure)\n",
    "plt.xlabel('Temperature [C]')\n",
    "plt.ylabel('Pressure [bara]')"
   ]
  },
  {
   "cell_type": "markdown",
   "metadata": {},
   "source": [
    "## Calculation of heat of vapourization of pure components.\n",
    "Calculate the heat of vapourization at 1 atm for methane. Draw the heat of vapourization line  of methane between 1 atm. and 10 bar."
   ]
  },
  {
   "cell_type": "code",
   "execution_count": null,
   "metadata": {},
   "outputs": [],
   "source": [
    "fluid1 = fluid('srk') #create a fluid using the SRK-EoS\n",
    "fluid1.addComponent('methane', 1.0) #adding 1 mole methane to the fluid\n",
    "fluid1.setTemperature(111.0) # setting an initial temperature of -160 deg C\n",
    "fluid1.setPressure(1.01325)#\n",
    "bubt(fluid1)\n",
    "fluid1.init(3) #initializes/calculates all thermodynamic properties of the fluid (including enthalpy)\n",
    "print('methane entalpy of vapourization ', (fluid1.getPhase('gas').getEnthalpy('kJ/kg')-fluid1.getPhase('oil').getEnthalpy('kJ/kg'), ' kJ/kg'))\n",
    "\n",
    "def enthalp(pressure):\n",
    "    fluid1.setPressure(pressure)\n",
    "    bubt(fluid1)\n",
    "    fluid1.init(3) \n",
    "    return (fluid1.getPhase('gas').getEnthalpy('kJ/kg')-fluid1.getPhase('oil').getEnthalpy('kJ/kg'))\n",
    "\n",
    "pressure = np.arange(1.0, 11.0, 1.0)\n",
    "entha = [enthalp(P) for P in pressure]\n",
    "\n",
    "plt.plot(pressure, entha)\n",
    "plt.xlabel('Pressure [bara]')\n",
    "plt.ylabel('Enthalpy of vaporization [kJ/kg]')"
   ]
  },
  {
   "cell_type": "markdown",
   "metadata": {},
   "source": [
    "## Calculation of boiling point of a binary mixture. \n",
    "Calculate the boiling point temperature of a propane and n-pentane mxture (50/50 mol%) at 1 atm. Draw the boiling point temperatrure line of the pure components between 1 atm. and 10 bar."
   ]
  },
  {
   "cell_type": "code",
   "execution_count": null,
   "metadata": {},
   "outputs": [],
   "source": [
    "fluid1 = fluid('srk') #create a fluid using the SRK-EoS\n",
    "fluid1.addComponent('propane', 1.0) #adding 1 mole propane to the fluid\n",
    "fluid1.addComponent('n-pentane', 1.0) #adding 1 mole n-pentane to the fluid\n",
    "fluid1.setMixingRule('classic') # setting the mixing rule using a constant binary interaction parameter (kij)\n",
    "fluid1.setTemperature(250.0) # setting an initial temperature in Kelvin\n",
    "fluid1.setPressure(1.01325)# setting pressure of the fluid in bara\n",
    "bubt(fluid1)\n",
    "print('mixture buble point temperature ', fluid1.getTemperature('C'), \" at pressure \", fluid1.getPressure('bara'))\n",
    "print('mixture entalpy of vaporization ', (fluid1.getPhase('gas').getEnthalpy('kJ/kg')-fluid1.getPhase('oil').getEnthalpy('kJ/kg'), ' kJ/kg'))\n",
    "\n",
    "def bubleP(pressure):\n",
    "    fluid1.setPressure(pressure)\n",
    "    bubt(fluid1)\n",
    "    return fluid1.getTemperature('C')\n",
    "\n",
    "pressure = np.arange(1.0, 11.0, 1.0)\n",
    "temperature = [bubleP(P) for P in pressure]\n",
    "\n",
    "plt.plot(temperature, pressure)\n",
    "plt.xlabel('Temperature [C]')\n",
    "plt.ylabel('Pressure [bara]')"
   ]
  },
  {
   "cell_type": "code",
   "execution_count": null,
   "metadata": {},
   "outputs": [],
   "source": [
    "bubtemp = []\n",
    "dewtemp = []\n",
    "x = []\n",
    "y = []\n",
    "x2 = []\n",
    "y2 = []\n",
    "comp1 = 'propane'\n",
    "comp2 = 'n-butane'\n",
    "\n",
    "fluid1 = fluid('srk')\n",
    "addComponent(fluid1, comp1,0.000001)\n",
    "addComponent(fluid1, comp2,1.01)\n",
    "fluid1.setMixingRule('classic')\n",
    "fluid1.setTemperature(200.0)\n",
    "fluid1.setPressure(5.0)\n",
    "try:\n",
    "    for temp in range(0,11):\n",
    "        bubtemp.append(bubt(fluid1))\n",
    "        dewtemp.append(dewt(fluid1))\n",
    "        fluid1.init(0)\n",
    "        x.append(fluid1.getPhase(0).getComponent(0).getz())\n",
    "        fluid1.addComponent(comp2, -0.1)\n",
    "        fluid1.addComponent(comp1, 0.1)\n",
    "except:\n",
    "        print('no dewt found')\n",
    "\n",
    "plt.plot(x, bubtemp, label='bubT')\n",
    "plt.plot(x, dewtemp, label=\"dewT\")\n",
    "plt.xlabel('Temperature [C]')\n",
    "plt.ylabel('Pressure [bara]')"
   ]
  },
  {
   "cell_type": "markdown",
   "metadata": {},
   "source": [
    "## Calculation of maximum gas velocty in separator based on Souders-Brown equation\n",
    "A gas mixture of 90 mol% methane and 10 mol% n-heptane is being separated in a gas scruber operating at 55 bara and 27 °C. 4\n",
    "\n",
    "1. Calculate the maximum gas flow rate in a separator (K-value = 0.1)\n",
    "\n",
    "2. Set up a simple stream and separator process. Set the diameter of the gas scruber to 0.8 meter. What is the K-value of the separator?\n",
    "\n",
    "3. What is the liquid rate leving the bottom of the scrubber (in unit m3/hr)?"
   ]
  },
  {
   "cell_type": "code",
   "execution_count": null,
   "metadata": {},
   "outputs": [],
   "source": [
    "fluid1 = fluid('srk') #create a fluid using the SRK-EoS\n",
    "fluid1.addComponent('methane', 0.9, 'MSm3/day') #adding 1 mole propane to the fluid\n",
    "fluid1.addComponent('n-heptane', 0.1, 'MSm3/day') #adding 1 mole n-pentane to the fluid\n",
    "fluid1.setMixingRule('classic') # setting the mixing rule using a constant binary interaction parameter (kij)\n",
    "fluid1.setTemperature(27.5, 'C')# setting an initial temperature in Kelvin\n",
    "fluid1.setPressure(55.0, 'bara')# setting pressure of the fluid in bara\n",
    "\n",
    "TPflash(fluid1)\n",
    "fluid1.initPhysicalProperties()\n",
    "\n",
    "interfacialTension = fluid1.getInterfacialTension('gas', 'oil')\n",
    "gasDensity = fluid1.getPhase('gas').getDensity('kg/m3')\n",
    "oilDensity = fluid1.getPhase('oil').getDensity('kg/m3')\n",
    "print('Interfacial tension (mN/m) ', interfacialTension*1e3, ' gas density (kg/m3) ',gasDensity,' oil density (kg/m3) ',oilDensity)\n",
    "Kfactor = 0.1\n",
    "\n",
    "Vmax = Kfactor * math.sqrt((oilDensity-gasDensity)/gasDensity)\n",
    "print('1. The maximum gas velocity in the separator based on the Souders-Brown equation is ', Vmax, ' m/sec')\n",
    "\n",
    "\n",
    "#setting up a simple separation process for the fluid\n",
    "processEquipment = neqsim.processSimulation.processEquipment\n",
    "feedStream1 = processEquipment.stream.Stream(\"Feed stream\", fluid1)\n",
    "gasScrubber = processEquipment.separator.GasScrubberSimple(\"Gas scrubber\", feedStream1)\n",
    "gasScrubber.setInternalDiameter(0.8)\n",
    "operations =  neqsim.processSimulation.processSystem.ProcessSystem()\n",
    "operations.add(feedStream1)\n",
    "operations.add(gasScrubber)\n",
    "operations.run()\n",
    "print('2. The gas load factor K for a scrubber with internal diameter of 0.5 meter is ', gasScrubber.getGasLoadFactor(), ' m/sec')\n",
    "\n",
    "print('3. Liquid rate from scrubber (m3/hr) ', gasScrubber.getLiquidOutStream().getThermoSystem().getFlowRate('m3/hr'))"
   ]
  },
  {
   "cell_type": "code",
   "execution_count": null,
   "metadata": {},
   "outputs": [],
   "source": [
    "fluid1 = fluid('cpa')\n",
    "fluid1.addComponent('CO2',1.0)\n",
    "fluid1.setTemperature(20.5, 'C')\n",
    "\n",
    "pressures = [1.0, 5.0, 10.0, 20.0,30.0, 40.0, 50.0,60.0,70.0, 80.0,90.0,100.0];\n",
    "density = []\n",
    "\n",
    "for P in pressures:\n",
    "    fluid1.setPressure(P)\n",
    "    TPflash(fluid1)\n",
    "    density.append(fluid1.getDensity())\n",
    "\n",
    "plt.plot(pressures, density, label='density')\n",
    "plt.xlabel('Pressure [bara]')\n",
    "plt.ylabel('Density [kg/m3]')"
   ]
  },
  {
   "cell_type": "markdown",
   "metadata": {},
   "source": [
    "## Calculation of compressor power\n",
    "A gas mixture of 90 mol% methane and 10 mol% ethane is compressed from 23°C and 25 bara to 50 bara. THe adibatic efficincy of the compressor is 90%. The gas flow rate is 1 MSm^3/day.\n",
    "\n",
    "1. Calculate compressor power and outlet temperature by estimating enthalpy and entropy of the fluid\n",
    "2. Repeat the calculation using a compressor unit operation from neqsim processTools"
   ]
  },
  {
   "cell_type": "code",
   "execution_count": null,
   "metadata": {},
   "outputs": [],
   "source": [
    "adibaticEfficiency = 0.9\n",
    "\n",
    "fluid1 = fluid('srk') #create a fluid using the SRK-EoS\n",
    "fluid1.addComponent('methane', 90.0) #adding 1 mole methane to the fluid\n",
    "fluid1.addComponent('ethane', 10.0) #adding 1 mole methane to the fluid\n",
    "fluid1.setTemperature(23.0, 'C') # setting an initial temperature of -160 deg C\n",
    "fluid1.setPressure(25.0, 'bara')#\n",
    "fluid1.setTotalFlowRate(1.0, 'MSm3/day')\n",
    "TPflash(fluid1)\n",
    "fluid1.init(3)# need to call init 3 the read entropy/enthalpy\n",
    "\n",
    "inletEntropy = fluid1.getEntropy()\n",
    "inletEnthalpy = fluid1.getEnthalpy('J')\n",
    "\n",
    "fluid1.setPressure(50.0)\n",
    "PSflash(fluid1, inletEntropy)\n",
    "\n",
    "outAdiabaticEnthalpy = fluid1.getEnthalpy('J')\n",
    "outRealEnthalpy = (outAdiabaticEnthalpy-inletEnthalpy)/adibaticEfficiency + inletEnthalpy\n",
    "PHflash(fluid1, outRealEnthalpy)\n",
    "\n",
    "print('1.')\n",
    "print('Compressor power ', (outRealEnthalpy-inletEnthalpy)/1.0e3, 'kW')\n",
    "print('Real outlet temperature ', fluid1.getTemperature('C'), ' C')\n"
   ]
  },
  {
   "cell_type": "code",
   "execution_count": null,
   "metadata": {},
   "outputs": [],
   "source": [
    "from neqsim.process.processTools import *\n",
    "\n",
    "fluid1 = fluid('srk') #create a fluid using the SRK-EoS\n",
    "fluid1.addComponent('methane', 90.0) #adding 1 mole methane to the fluid\n",
    "fluid1.addComponent('ethane', 10.0) #adding 1 mole methane to the fluid\n",
    "fluid1.setTemperature(23.0, 'C') # setting an initial temperature of -160 deg C\n",
    "fluid1.setPressure(25.0, 'bara')#\n",
    "fluid1.setTotalFlowRate(1.0, 'MSm3/day')\n",
    "TPflash(fluid1)\n",
    "\n",
    "\n",
    "clearProcess()\n",
    "feedStream = stream(fluid1,\"feed fluid\")\n",
    "compressor1 = compressor(feedStream, 50.0)\n",
    "compressor1.setIsentropicEfficiency(adibaticEfficiency)\n",
    "runProcess()\n",
    "\n",
    "print('2.')\n",
    "print('Compressor power ', compressor1.getPower()/1.0e3, 'kW')\n",
    "print('Compressor power ', compressor1.getThermoSystem().getTemperature('C'), 'C')"
   ]
  },
  {
   "cell_type": "markdown",
   "metadata": {},
   "source": [
    "## Calculation of a shell and tube heat exchanger\n",
    "A 1 MSm^3/day methane stream at 50 bara and 40 °C is going to be cooled to 20 °C. THe cooling medium will be water at atmosperic pressure entering at 10°C."
   ]
  },
  {
   "cell_type": "code",
   "execution_count": null,
   "metadata": {},
   "outputs": [],
   "source": [
    "fluid1 = fluid('srk') #create a fluid using the SRK-EoS\n",
    "fluid1.addComponent('methane', 90.0) #adding 1 mole methane to the fluid\n",
    "fluid1.setTemperature(40.0, 'C') # setting an initial temperature of -160 deg C\n",
    "fluid1.setPressure(50.0, 'bara')#\n",
    "fluid1.setTotalFlowRate(1.0, 'MSm3/day')\n",
    "TPflash(fluid1)\n",
    "\n",
    "water = fluid('srk') #create a fluid using the SRK-EoS\n",
    "water.addComponent('MEG', 10.0)\n",
    "water.addComponent('water', 900.0) #adding 1 mole methane to the fluid\n",
    "water.setTemperature(10.0, 'C') # setting an initial temperature of -160 deg C\n",
    "water.setPressure(1.01325, 'bara')\n",
    "TPflash(water)\n",
    "\n",
    "clearProcess()\n",
    "feedStream = stream(fluid1,\"feed fluid\")\n",
    "heatExchanger1 = heater(feedStream)\n",
    "heatExchanger1.setOutTemperature(273.15+20.0)\n",
    "runProcess()\n",
    "\n",
    "Tinn = water.getTemperature()\n",
    "print('heater duty ', heatExchanger1.getEnergyInput(),\" W\")\n",
    "\n",
    "PHflash(water, (water.getEnthalpy()-heatExchanger1.getEnergyInput()))\n",
    "Tout = water.getTemperature()\n",
    "print('water out temperature ', water.getTemperature('C'),\" C\")\n",
    "\n",
    "Cpbased = water.getCp()*(Tout-Tinn)\n",
    "print(\"cp based estimate \", Cpbased)\n",
    "\n",
    "LMTD = 10.0\n",
    "\n",
    "UA =  -heatExchanger1.getEnergyInput()/LMTD\n",
    "\n",
    "print('Estimated UA ', UA)"
   ]
  },
  {
   "cell_type": "markdown",
   "metadata": {},
   "source": [
    "## Calculation of GCV and WI\n",
    "Calculate the WI and GVC of a 90/10 mol% methane ethane gas mixture"
   ]
  },
  {
   "cell_type": "code",
   "execution_count": 9,
   "metadata": {},
   "outputs": [
    {
     "name": "stdout",
     "output_type": "stream",
     "text": [
      "WI  nan  GCV  0.0\n"
     ]
    }
   ],
   "source": [
    "from neqsim.standards.standardTools import *\n",
    "\n",
    "fluid1 = fluid('srk') #create a fluid using the SRK-EoS\n",
    "fluid1.addComponent('methane', 90.0) #adding 1 mole methane to the fluid\n",
    "fluid1.addComponent('ethane', 1.0) #adding 1 mole methane to the fluid\n",
    "fluid1.setTemperature(23.0, 'C') # setting an initial temperature of -160 deg C\n",
    "fluid1.setPressure(25.0, 'bara')#\n",
    "TPflash(fluid1)\n",
    "standard = ISO6976(fluid1)\n",
    "GCV = standard.getValue(\"GCV\")\n",
    "WI = standard.getValue(\"SuperiorWobbeIndex\")\n",
    "\n",
    "\n",
    "print('WI ', WI, ' GCV ', GCV) #need to have database table for ISO6976"
   ]
  },
  {
   "cell_type": "code",
   "execution_count": 6,
   "metadata": {},
   "outputs": [
    {
     "data": {
      "image/png": "[encoded data removed]",
      "text/plain": [
       "<Figure size 432x288 with 1 Axes>"
      ]
     },
     "metadata": {
      "needs_background": "light"
     },
     "output_type": "display_data"
    }
   ],
   "source": [
    "thermoSystem = neqsim.thermo.system.SystemSrkEos(280.0,10.0)\n",
    "thermoSystem.addComponent(\"nitrogen\", 1.0)\n",
    "thermoSystem.addComponent(\"methane\", 70.0)\n",
    "thermoSystem.addComponent(\"ethane\", 4.0)\n",
    "thermoSystem.addComponent(\"propane\", 2.0)\n",
    "thermoSystem.addComponent(\"i-butane\", 1.0)\n",
    "thermoSystem.addComponent(\"n-butane\", 1.0)\n",
    "\n",
    "thermoOps = neqsim.thermodynamicOperations.ThermodynamicOperations(thermoSystem)\n",
    "thermoOps.calcPTphaseEnvelope()\n",
    "\n",
    "plt.plot(list(thermoOps.getOperation().get(\"dewT\")),list(thermoOps.getOperation().get(\"dewP\")), label=\"dew point\")\n",
    "plt.plot(list(thermoOps.getOperation().get(\"bubT\")),list(thermoOps.getOperation().get(\"bubP\")), label=\"bubble point\")\n",
    "plt.title('PT envelope')\n",
    "plt.xlabel('Temperature [\\u00B0C]')\n",
    "plt.ylabel('Pressure [bar]')\n",
    "plt.legend()\n",
    "plt.show()"
   ]
  },
  {
   "cell_type": "code",
   "execution_count": null,
   "metadata": {},
   "outputs": [],
   "source": [
    "thermoSystem = neqsim.thermo.system.SystemSrkEos(280.0,10.0)\n",
    "thermoSystem.addComponent(\"nitrogen\", 1.0)\n",
    "thermoSystem.addComponent(\"methane\", 70.0)\n",
    "thermoSystem.addComponent(\"ethane\", 4.0)\n",
    "thermoSystem.addComponent(\"propane\", 2.0)\n",
    "thermoSystem.addComponent(\"i-butane\", 1.0)\n",
    "thermoSystem.addComponent(\"n-butane\", 1.0)"
   ]
  },
  {
   "cell_type": "code",
   "execution_count": null,
   "metadata": {},
   "outputs": [],
   "source": [
    "adibaticEfficiency = 0.9\n",
    "\n",
    "fluid1 = fluid('srk') \n",
    "fluid1.addComponent('methane', 90.0)\n",
    "fluid1.setTemperature(23.0, 'C') \n",
    "fluid1.setPressure(50.0, 'bara')\n",
    "TPflash(fluid1)\n",
    "fluid1.init(3)\n",
    "fluid1.display()\n",
    "\n",
    "\n",
    "entalpi1 = fluid1.getEnthalpy('J/kg')\n",
    "fluid1.setPressure(100.0,'bara')\n",
    "TPflash(fluid1)\n",
    "fluid1.init(3)\n",
    "entalpi2 = fluid1.getEnthalpy('J/kg')\n",
    "print(entalpi1, ' ', entalpi2)\n",
    "print('enthalpy change ', (entalpi2-entalpi1), ' J/kg')\n"
   ]
  },
  {
   "cell_type": "code",
   "execution_count": null,
   "metadata": {},
   "outputs": [],
   "source": [
    "adibaticEfficiency =0.9\n",
    "from neqsim.process.processTools import *\n",
    "fluid1 = fluid('srk') \n",
    "fluid1.addComponent('methane', 90.0)\n",
    "fluid1.setTemperature(23.0, 'C') \n",
    "fluid1.setPressure(50.0, 'bara')\n",
    "TPflash(fluid1)\n",
    "fluid1.init(3)\n",
    "\n",
    "clearProcess()\n",
    "feedStream = stream(fluid1,\"feed fluid\")\n",
    "compressor1 = compressor(feedStream, 120.0)\n",
    "compressor1.setIsentropicEfficiency(adibaticEfficiency)\n",
    "runProcess()\n",
    "\n",
    "print(compressor1.getOutStream().getTemperature()-273.15)\n",
    "print('power ', compressor1.getPower())"
   ]
  },
  {
   "cell_type": "code",
   "execution_count": null,
   "metadata": {},
   "outputs": [],
   "source": []
  },
  {
   "cell_type": "code",
   "execution_count": null,
   "metadata": {},
   "outputs": [],
   "source": []
  }
 ],
 "metadata": {
  "kernelspec": {
   "display_name": "Python 3",
   "language": "python",
   "name": "python3"
  },
  "language_info": {
   "codemirror_mode": {
    "name": "ipython",
    "version": 3
   },
   "file_extension": ".py",
   "mimetype": "text/x-python",
   "name": "python",
   "nbconvert_exporter": "python",
   "pygments_lexer": "ipython3",
   "version": "3.7.1"
  }
 },
 "nbformat": 4,
 "nbformat_minor": 2
}
