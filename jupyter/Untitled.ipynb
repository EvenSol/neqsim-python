{
 "cells": [
  {
   "cell_type": "markdown",
   "metadata": {},
   "source": [
    "#NeqSim excercise in thermoynamics "
   ]
  },
  {
   "cell_type": "markdown",
   "metadata": {},
   "source": [
    "##Calculation of boiling point of pure components.\n",
    "Calculate the boiling point temperature of pure methane, propane and n-heptane at 1 atm.\n",
    "Draw the boiling point temperatrure line of the pure components between 1 atm. and 10 bar."
   ]
  },
  {
   "cell_type": "code",
   "execution_count": 1,
   "metadata": {},
   "outputs": [],
   "source": [
    "import neqsim\n",
    "from neqsim.thermo.thermoTools import *"
   ]
  },
  {
   "cell_type": "code",
   "execution_count": 15,
   "metadata": {},
   "outputs": [
    {
     "name": "stdout",
     "output_type": "stream",
     "text": [
      "methane buble point temperature  -161.14414719123826  at pressure  1.01325\n"
     ]
    }
   ],
   "source": [
    "fluid1 = fluid('srk') #create a fluid using the SRK-EoS\n",
    "fluid1.addComponent('methane', 1.0) #adding 1 mole methane to the fluid\n",
    "fluid1.setTemperature(111.0) # setting an initial temperature of -160 deg C\n",
    "fluid1.setPressure(1.01325)#\n",
    "bubt(fluid1)\n",
    "print('methane buble point temperature ', fluid1.getTemperature('C'), \" at pressure \", fluid1.getPressure('bara'))\n",
    "\n"
   ]
  },
  {
   "cell_type": "code",
   "execution_count": null,
   "metadata": {},
   "outputs": [],
   "source": []
  },
  {
   "cell_type": "code",
   "execution_count": null,
   "metadata": {},
   "outputs": [],
   "source": []
  }
 ],
 "metadata": {
  "kernelspec": {
   "display_name": "Python 3",
   "language": "python",
   "name": "python3"
  },
  "language_info": {
   "codemirror_mode": {
    "name": "ipython",
    "version": 3
   },
   "file_extension": ".py",
   "mimetype": "text/x-python",
   "name": "python",
   "nbconvert_exporter": "python",
   "pygments_lexer": "ipython3",
   "version": "3.7.1"
  }
 },
 "nbformat": 4,
 "nbformat_minor": 2
}
