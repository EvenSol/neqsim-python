{
 "cells": [
  {
   "cell_type": "markdown",
   "metadata": {},
   "source": [
    "# NeqSim in jupyter\n",
    "\n",
    "NeqSim can be run from jupyter by using the py4j python package. The JavaGateway must be started before the program can be run. Initially we connect to Java and import numpy and matplotlib for plotting."
   ]
  },
  {
   "cell_type": "code",
   "execution_count": 9,
   "metadata": {},
   "outputs": [],
   "source": [
    "import neqsim\n",
    "from neqsim.thermoTools import *\n",
    "\n",
    "from py4j.java_gateway import JavaGateway\n",
    "neqsim =  JavaGateway().jvm.neqsim\n",
    "\n",
    "import matplotlib\n",
    "import numpy as np\n",
    "import matplotlib.pyplot as plt\n",
    "%matplotlib inline"
   ]
  },
  {
   "cell_type": "markdown",
   "metadata": {},
   "source": [
    "##Example 1 Setting up a thermodynamic calculation using NeqSim"
   ]
  },
  {
   "cell_type": "code",
   "execution_count": null,
   "metadata": {},
   "outputs": [],
   "source": [
    "thermoSystem = neqsim.thermo.system.SystemSrkEos(280.0,10.0)\n",
    "thermoSystem.addComponent(\"methane\", 10.0)\n",
    "thermoSystem.addComponent(\"water\", 4.0)\n",
    "\n",
    "thermoOps = neqsim.thermodynamicOperations.ThermodynamicOperations(thermoSystem)\n",
    "thermoOps.TPflash()\n",
    "\n",
    "#thermoSystem.display()\n",
    "\n",
    "gasEnthalpy = thermoSystem.getPhase(0).getEnthalpy()\n",
    "\n",
    "thermoSystem.initPhysicalProperties(\"Viscosity\")\n",
    "gasViscosity = thermoSystem.getPhase(0).getViscosity(\"kg/msec\")\n",
    "\n",
    "print(\"Gas enthalpy \", gasEnthalpy)\n",
    "print(\"Gas viscosity \", gasViscosity)"
   ]
  },
  {
   "cell_type": "markdown",
   "metadata": {},
   "source": [
    "##Example 2 Calculation of a phase envelope using NeqSim"
   ]
  },
  {
   "cell_type": "code",
   "execution_count": null,
   "metadata": {},
   "outputs": [],
   "source": [
    "thermoSystem = neqsim.thermo.system.SystemSrkEos(280.0,10.0)\n",
    "thermoSystem.addComponent(\"nitrogen\", 1.0)\n",
    "thermoSystem.addComponent(\"methane\", 70.0)\n",
    "thermoSystem.addComponent(\"ethane\", 4.0)\n",
    "thermoSystem.addComponent(\"propane\", 2.0)\n",
    "thermoSystem.addComponent(\"i-butane\", 1.0)\n",
    "thermoSystem.addComponent(\"n-butane\", 1.0)\n",
    "\n",
    "thermoOps = neqsim.thermodynamicOperations.ThermodynamicOperations(thermoSystem)\n",
    "thermoOps.calcPTphaseEnvelope()\n",
    "\n",
    "plt.plot(list(thermoOps.getOperation().get(\"dewT\")),list(thermoOps.getOperation().get(\"dewP\")), label=\"dew point\")\n",
    "plt.plot(list(thermoOps.getOperation().get(\"bubT\")),list(thermoOps.getOperation().get(\"bubP\")), label=\"bubble point\")\n",
    "plt.title('PT envelope')\n",
    "plt.xlabel('Temperature [\\u00B0C]')\n",
    "plt.ylabel('Pressure [bar]')\n",
    "plt.legend()\n",
    "plt.show()"
   ]
  },
  {
   "cell_type": "markdown",
   "metadata": {},
   "source": [
    "##Example 3 Calculation of hydrate equilibrium temperature using NeqSim"
   ]
  },
  {
   "cell_type": "code",
   "execution_count": null,
   "metadata": {},
   "outputs": [],
   "source": [
    "thermoSystem = neqsim.thermo.system.SystemSrkEos(280.0,60.0)\n",
    "thermoSystem.addComponent(\"methane\", 90.0)\n",
    "thermoSystem.addComponent(\"ethane\", 10.0)\n",
    "thermoSystem.addComponent(\"propane\", 1.0)\n",
    "thermoSystem.addComponent(\"water\", 4.0)\n",
    "thermoSystem.setHydrateCheck(True);\n",
    "thermoOps = neqsim.thermodynamicOperations.ThermodynamicOperations(thermoSystem)\n",
    "thermoOps.hydrateFormationTemperature()\n",
    "\n",
    "print(\"Hydrate equilibrium temperature \", thermoSystem.getTemperature()-273.15, \" C\")"
   ]
  },
  {
   "cell_type": "markdown",
   "metadata": {},
   "source": [
    "##Example 4 Oil characterization"
   ]
  },
  {
   "cell_type": "code",
   "execution_count": null,
   "metadata": {},
   "outputs": [],
   "source": [
    "thermoSystem = neqsim.thermo.system.SystemSrkEos(280.0,60.0)\n",
    "thermoSystem.addComponent(\"nitrogen\", 2.0)\n",
    "thermoSystem.addComponent(\"CO2\", 1.0)\n",
    "thermoSystem.addComponent(\"methane\", 10.0)\n",
    "thermoSystem.addComponent(\"ethane\", 10.0)\n",
    "thermoSystem.addComponent(\"propane\", 1.0)\n",
    "thermoSystem.addTBPfraction(\"C6\", 0.428, 86.178 / 1000.0, 0.664);\n",
    "thermoSystem.addTBPfraction(\"C7\", 0.626, 96.00 / 1000.0, 0.738);\n",
    "thermoSystem.addTBPfraction(\"C8\", 0.609, 107.0 / 1000.0, 0.765);\n",
    "thermoSystem.addTBPfraction(\"C9\", 0.309, 121.0 / 1000.0, 0.781);\n",
    "thermoSystem.addPlusFraction(\"C10\", 5.137, 231.0 / 1000.0, 0.8301);\n",
    "thermoSystem.getCharacterization().getLumpingModel().setNumberOfLumpedComponents(12);\n",
    "thermoSystem.getCharacterization().characterisePlusFraction();\n",
    "thermoSystem.setMixingRule(2)\n",
    "\n",
    "thermoOps = neqsim.thermodynamicOperations.ThermodynamicOperations(thermoSystem)\n",
    "thermoOps.TPflash()\n",
    "\n",
    "#thermoSystem.display()\n",
    "\n",
    "thermoSystem.initPhysicalProperties(\"Density\")\n",
    "gasDensity = thermoSystem.getPhase(\"gas\").getDensity(\"kg/m3\")\n",
    "oilDensity = thermoSystem.getPhase(\"oil\").getDensity(\"kg/m3\")\n",
    "\n",
    "print(\"gas density \", gasDensity)\n",
    "print(\"oil density \", oilDensity)\n",
    "\n",
    "thermoOps = neqsim.thermodynamicOperations.ThermodynamicOperations(thermoSystem)\n",
    "thermoOps.calcPTphaseEnvelope()\n",
    "\n",
    "plt.plot(list(thermoOps.getOperation().get(\"dewT\")),list(thermoOps.getOperation().get(\"dewP\")), label=\"dew point\")\n",
    "plt.plot(list(thermoOps.getOperation().get(\"bubT\")),list(thermoOps.getOperation().get(\"bubP\")), label=\"bubble point\")\n",
    "plt.title('PT envelope')\n",
    "plt.xlabel('Temperature [\\u00B0C]')\n",
    "plt.ylabel('Pressure [bar]')\n",
    "plt.legend()\n",
    "plt.show()"
   ]
  },
  {
   "cell_type": "markdown",
   "metadata": {},
   "source": [
    "##Example 5 Process simulation"
   ]
  },
  {
   "cell_type": "code",
   "execution_count": null,
   "metadata": {},
   "outputs": [],
   "source": [
    "processEquipment = neqsim.processSimulation.processEquipment\n",
    "\n",
    "testSystem = neqsim.thermo.system.SystemSrkEos((273.15+50.0),50.00);\n",
    "testSystem.addComponent(\"methane\", 900.00);\n",
    "testSystem.addComponent(\"ethane\", 200.00);\n",
    "testSystem.addComponent(\"n-hexane\", 200.0);\n",
    "testSystem.addComponent(\"n-nonane\", 200.0);\n",
    "testSystem.addComponent(\"nC10\", 20.0);\n",
    "testSystem.addComponent(\"nC13\", 10.0);\n",
    "testSystem.setMixingRule(2);\n",
    "\n",
    "stream_1 = processEquipment.stream.Stream(\"Stream1\", testSystem);\n",
    "        \n",
    "mixerHP = processEquipment.mixer.StaticMixer(\"Mixer HP\");\n",
    "mixerHP.addStream(stream_1);\n",
    "        \n",
    "separator = processEquipment.separator.Separator(\"Separator 1\", mixerHP.getOutStream());\n",
    "        \n",
    "LP_valve = processEquipment.valve.ThrottlingValve(\"LPventil\", separator.getLiquidOutStream());\n",
    "LP_valve.setOutletPressure(5.0);\n",
    "        \n",
    "LPseparator = processEquipment.separator.Separator(\"Separator 1\", LP_valve.getOutStream());\n",
    "        \n",
    "LPcompressor = processEquipment.compressor.Compressor(LPseparator.getGasOutStream());\n",
    "LPcompressor.setOutletPressure(50.0);\n",
    "        \n",
    "heaterLP =  processEquipment.heatExchanger.Heater(LPcompressor.getOutStream());\n",
    "heaterLP.setOutTemperature(270.25);\n",
    "        \n",
    "stream_2 =  processEquipment.stream.Stream(heaterLP.getOutStream());\n",
    "stream_2.setName(\"cooled gas\");\n",
    "        \n",
    "gasScrubber = processEquipment.separator.GasScrubberSimple(\"Scrubber\", stream_2);\n",
    "        \n",
    "stream_3 = processEquipment.stream.Stream(gasScrubber.getLiquidOutStream());\n",
    "stream_3.setName(\"liq from scrubber gas\");\n",
    "        \n",
    "mixerHP.addStream(stream_3);\n",
    "        \n",
    "mixer = processEquipment.mixer.StaticMixer(\"Mixer export\");\n",
    "mixer.addStream(separator.getGasOutStream());\n",
    "mixer.addStream(gasScrubber.getGasOutStream());\n",
    "        \n",
    "HPcompressor = processEquipment.compressor.Compressor(mixer.getOutStream());\n",
    "HPcompressor.setOutletPressure(200.0);\n",
    "        \n",
    "operations =  neqsim.processSimulation.processSystem.ProcessSystem();\n",
    "operations.add(stream_1);\n",
    "operations.add(mixerHP);\n",
    "operations.add(separator);\n",
    "operations.add(LP_valve);\n",
    "operations.add(LPseparator);\n",
    "operations.add(LPcompressor);\n",
    "operations.add(heaterLP);\n",
    "operations.add(stream_2);\n",
    "operations.add(gasScrubber);\n",
    "operations.add(stream_3);\n",
    "operations.add(mixer);\n",
    "operations.add(HPcompressor);\n",
    "        \n",
    "operations.run();\n",
    "\n",
    "print(\"LP compressor power \", LPcompressor.getPower()/1000.0, \" kW\")\n",
    "print(\"HP compressor power \", HPcompressor.getPower()/1000.0, \" kW\")"
   ]
  },
  {
   "cell_type": "markdown",
   "metadata": {},
   "source": [
    "\n",
    "##Example 6 Create pS and pH diagram"
   ]
  },
  {
   "cell_type": "code",
   "execution_count": null,
   "metadata": {},
   "outputs": [],
   "source": [
    "thermoSystem = neqsim.thermo.system.SystemSrkEos(280.0,10.0)\n",
    "thermoSystem.addComponent(\"methane\", 10.0)\n",
    "thermoSystem.addComponent(\"ethane\", 4.0)\n",
    "\n",
    "thermoOps = neqsim.thermodynamicOperations.ThermodynamicOperations(thermoSystem)\n",
    "thermoOps.TPflash()\n",
    "\n",
    "def enthalpy(P):\n",
    "    thermoSystem.setPressure(P)\n",
    "    thermoSystem.init(3)\n",
    "    return thermoSystem.getEnthalpy(\"kJ/kg\")\n",
    "\n",
    "def entropy(P):\n",
    "    thermoSystem.setPressure(P)\n",
    "    thermoSystem.init(3)\n",
    "    return thermoSystem.getEntropy(\"kJ/kgK\")\n",
    "\n",
    "pressure = np.arange(1.0, 200.0, 5.0)\n",
    "enthalpy = [enthalpy(P) for P in pressure]\n",
    "entropy = [entropy(P) for P in pressure]\n",
    "\n",
    "plt.subplot(2, 1, 1)\n",
    "plt.plot(pressure, enthalpy)\n",
    "plt.xlabel('Pressure [bara]')\n",
    "plt.ylabel('Enthalpy [kJ/kg]')\n",
    "\n",
    "plt.subplot(2, 1, 2)\n",
    "plt.plot(pressure, entropy)\n",
    "plt.xlabel('Pressure [bara]')\n",
    "plt.ylabel('Entropy [kJ/kgK]')\n",
    "    "
   ]
  },
  {
   "cell_type": "markdown",
   "metadata": {},
   "source": [
    "Example 7 Using the neqsim Python package (pip distribution neqsim)"
   ]
  },
  {
   "cell_type": "code",
   "execution_count": 7,
   "metadata": {},
   "outputs": [],
   "source": [
    "import neqsim\n",
    "from neqsim.thermoTools import *\n",
    "\n",
    "fluid1 = fluid('srk')\n",
    "fluid1.addComponent('methane',10.0)\n",
    "fluid1.addComponent('n-heptane',2.0)\n",
    "fluid1.addComponent('water',3.0)\n",
    "fluid1.setMixingRule(2)\n",
    "fluid1.setMultiPhaseCheck(True)\n",
    "TPflash(fluid1)\n",
    "show(fluid1)"
   ]
  },
  {
   "cell_type": "code",
   "execution_count": null,
   "metadata": {},
   "outputs": [],
   "source": []
  }
 ],
 "metadata": {
  "kernelspec": {
   "display_name": "Python 3",
   "language": "python",
   "name": "python3"
  },
  "language_info": {
   "codemirror_mode": {
    "name": "ipython",
    "version": 3
   },
   "file_extension": ".py",
   "mimetype": "text/x-python",
   "name": "python",
   "nbconvert_exporter": "python",
   "pygments_lexer": "ipython3",
   "version": "3.7.1"
  }
 },
 "nbformat": 4,
 "nbformat_minor": 2
}
