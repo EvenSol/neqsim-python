{
 "cells": [
  {
   "cell_type": "markdown",
   "metadata": {},
   "source": [
    "# NeqSim in jupyter\n",
    "\n",
    "NeqSim can be run from jupyter by using the py4j python package"
   ]
  },
  {
   "cell_type": "markdown",
   "metadata": {},
   "source": [
    "##Example 1 Setting up a thermodynamic calculation using NeqSim"
   ]
  },
  {
   "cell_type": "code",
   "execution_count": 1,
   "metadata": {},
   "outputs": [
    {
     "name": "stdout",
     "output_type": "stream",
     "text": [
      "Gas enthalpy  1079.483954492986\n",
      "Gas viscosity  1.0507234883676986e-05\n"
     ]
    }
   ],
   "source": [
    "from py4j.java_gateway import *\n",
    "neqsim =  JavaGateway().jvm.neqsim\n",
    "\n",
    "thermoSystem = neqsim.thermo.system.SystemSrkEos(280.0,10.0)\n",
    "thermoSystem.addComponent(\"methane\", 10.0)\n",
    "thermoSystem.addComponent(\"water\", 4.0)\n",
    "\n",
    "thermoOps = neqsim.thermodynamicOperations.ThermodynamicOperations(thermoSystem)\n",
    "thermoOps.TPflash()\n",
    "\n",
    "#thermoSystem.display()\n",
    "\n",
    "gasEnthalpy = thermoSystem.getPhase(0).getEnthalpy()\n",
    "\n",
    "thermoSystem.initPhysicalProperties(\"Viscosity\")\n",
    "gasViscosity = thermoSystem.getPhase(0).getViscosity(\"kg/msec\")\n",
    "\n",
    "print(\"Gas enthalpy \", gasEnthalpy)\n",
    "print(\"Gas viscosity \", gasViscosity)"
   ]
  },
  {
   "cell_type": "markdown",
   "metadata": {},
   "source": [
    "##Example 2 Calculation of a phase envelope using NeqSim"
   ]
  },
  {
   "cell_type": "code",
   "execution_count": 2,
   "metadata": {},
   "outputs": [
    {
     "data": {
      "image/png": "[encoded data removed]",
      "text/plain": [
       "<Figure size 432x288 with 1 Axes>"
      ]
     },
     "metadata": {
      "needs_background": "light"
     },
     "output_type": "display_data"
    }
   ],
   "source": [
    "thermoSystem = neqsim.thermo.system.SystemSrkEos(280.0,10.0)\n",
    "thermoSystem.addComponent(\"nitrogen\", 1.0)\n",
    "thermoSystem.addComponent(\"methane\", 70.0)\n",
    "thermoSystem.addComponent(\"ethane\", 4.0)\n",
    "thermoSystem.addComponent(\"propane\", 2.0)\n",
    "thermoSystem.addComponent(\"i-butane\", 1.0)\n",
    "thermoSystem.addComponent(\"n-butane\", 1.0)\n",
    "\n",
    "thermoOps = neqsim.thermodynamicOperations.ThermodynamicOperations(thermoSystem)\n",
    "thermoOps.calcPTphaseEnvelope()\n",
    "\n",
    "import matplotlib\n",
    "import numpy as np\n",
    "import matplotlib.pyplot as plt\n",
    "%matplotlib inline\n",
    "\n",
    "plt.plot(list(thermoOps.getOperation().get(\"dewT\")),list(thermoOps.getOperation().get(\"dewP\")), label=\"dew point\")\n",
    "plt.plot(list(thermoOps.getOperation().get(\"bubT\")),list(thermoOps.getOperation().get(\"bubP\")), label=\"bubble point\")\n",
    "plt.title('PT envelope')\n",
    "plt.xlabel('Temperature [\\u00B0C]')\n",
    "plt.ylabel('Pressure [bar]')\n",
    "plt.legend()\n",
    "plt.show()"
   ]
  },
  {
   "cell_type": "markdown",
   "metadata": {},
   "source": [
    "##Example 3 Calculation of hydrate equilibrium temperature using NeqSim"
   ]
  },
  {
   "cell_type": "code",
   "execution_count": 3,
   "metadata": {},
   "outputs": [
    {
     "name": "stdout",
     "output_type": "stream",
     "text": [
      "Hydrate equilibrium temperature  15.407359934325314  C\n"
     ]
    }
   ],
   "source": [
    "thermoSystem = neqsim.thermo.system.SystemSrkEos(280.0,60.0)\n",
    "thermoSystem.addComponent(\"methane\", 90.0)\n",
    "thermoSystem.addComponent(\"ethane\", 10.0)\n",
    "thermoSystem.addComponent(\"propane\", 1.0)\n",
    "thermoSystem.addComponent(\"water\", 4.0)\n",
    "thermoSystem.setHydrateCheck(True);\n",
    "thermoOps = neqsim.thermodynamicOperations.ThermodynamicOperations(thermoSystem)\n",
    "thermoOps.hydrateFormationTemperature()\n",
    "\n",
    "print(\"Hydrate equilibrium temperature \", thermoSystem.getTemperature()-273.15, \" C\")"
   ]
  },
  {
   "cell_type": "code",
   "execution_count": null,
   "metadata": {},
   "outputs": [],
   "source": []
  }
 ],
 "metadata": {
  "kernelspec": {
   "display_name": "Python 3",
   "language": "python",
   "name": "python3"
  },
  "language_info": {
   "codemirror_mode": {
    "name": "ipython",
    "version": 3
   },
   "file_extension": ".py",
   "mimetype": "text/x-python",
   "name": "python",
   "nbconvert_exporter": "python",
   "pygments_lexer": "ipython3",
   "version": "3.7.1"
  }
 },
 "nbformat": 4,
 "nbformat_minor": 2
}
