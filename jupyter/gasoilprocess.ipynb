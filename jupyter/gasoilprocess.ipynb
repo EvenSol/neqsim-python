{
 "cells": [
  {
   "cell_type": "markdown",
   "metadata": {},
   "source": [
    "## Example of how to use NeqSim for oil and gas processing\n"
   ]
  },
  {
   "cell_type": "code",
   "execution_count": 1,
   "metadata": {},
   "outputs": [],
   "source": [
    "import neqsim\n",
    "from neqsim.thermo.thermoTools import *\n",
    "from neqsim.process.processTools import *"
   ]
  },
  {
   "cell_type": "markdown",
   "metadata": {},
   "source": [
    "1. Create a well stream for a typical gas-condesate well stream"
   ]
  },
  {
   "cell_type": "code",
   "execution_count": 12,
   "metadata": {},
   "outputs": [
    {
     "output_type": "stream",
     "name": "stdout",
     "text": [
      "                                                    ()                   (t, o, t, a, l)                                           (o, i, l) () () ()                                            ()\n                                       (w, a, t, e, r)    (4, ., 3, 9, 7, 8, 5, E, -, 3)                      (4, ., 3, 9, 7, 8, 5, E, -, 3) () () () ([, m, o, l, e,  , f, r, a, c, t, i, o, n, ])\n                              (n, i, t, r, o, g, e, n)    (7, ., 0, 9, 8, 9, 3, E, -, 4)                      (7, ., 0, 9, 8, 9, 3, E, -, 4) () () () ([, m, o, l, e,  , f, r, a, c, t, i, o, n, ])\n                                             (C, O, 2)    (1, ., 0, 0, 4, 5, 6, E, -, 2)                      (1, ., 0, 0, 4, 5, 6, E, -, 2) () () () ([, m, o, l, e,  , f, r, a, c, t, i, o, n, ])\n                                 (m, e, t, h, a, n, e)    (1, ., 7, 2, 0, 7, 8, E, -, 1)                      (1, ., 7, 2, 0, 7, 8, E, -, 1) () () () ([, m, o, l, e,  , f, r, a, c, t, i, o, n, ])\n                                    (e, t, h, a, n, e)    (8, ., 0, 5, 1, 4, 4, E, -, 2)                      (8, ., 0, 5, 1, 4, 4, E, -, 2) () () () ([, m, o, l, e,  , f, r, a, c, t, i, o, n, ])\n                                 (p, r, o, p, a, n, e)    (8, ., 9, 5, 3, 7, 6, E, -, 2)                      (8, ., 9, 5, 3, 7, 6, E, -, 2) () () () ([, m, o, l, e,  , f, r, a, c, t, i, o, n, ])\n                              (i, -, b, u, t, a, n, e)    (8, ., 8, 8, 8, 3, 6, E, -, 2)                      (8, ., 8, 8, 8, 3, 6, E, -, 2) () () () ([, m, o, l, e,  , f, r, a, c, t, i, o, n, ])\n                              (n, -, b, u, t, a, n, e)    (7, ., 2, 7, 6, 5, 9, E, -, 2)                      (7, ., 2, 7, 6, 5, 9, E, -, 2) () () () ([, m, o, l, e,  , f, r, a, c, t, i, o, n, ])\n                           (i, -, p, e, n, t, a, n, e)    (5, ., 5, 6, 4, 1, 9, E, -, 2)                      (5, ., 5, 6, 4, 1, 9, E, -, 2) () () () ([, m, o, l, e,  , f, r, a, c, t, i, o, n, ])\n                           (n, -, p, e, n, t, a, n, e)    (6, ., 2, 3, 8, 6, 1, E, -, 2)                      (6, ., 2, 3, 8, 6, 1, E, -, 2) () () () ([, m, o, l, e,  , f, r, a, c, t, i, o, n, ])\n                                       (C, 6, _, P, C)    (1, ., 5, 6, 7, 1, 1, E, -, 1)                      (1, ., 5, 6, 7, 1, 1, E, -, 1) () () () ([, m, o, l, e,  , f, r, a, c, t, i, o, n, ])\n                                       (C, 7, _, P, C)    (6, ., 1, 8, 6, 0, 7, E, -, 2)                      (6, ., 1, 8, 6, 0, 7, E, -, 2) () () () ([, m, o, l, e,  , f, r, a, c, t, i, o, n, ])\n                                       (C, 8, _, P, C)    (5, ., 3, 9, 5, 3, 6, E, -, 2)                      (5, ., 3, 9, 5, 3, 6, E, -, 2) () () () ([, m, o, l, e,  , f, r, a, c, t, i, o, n, ])\n                                       (C, 9, _, P, C)    (6, ., 9, 4, 3, 1, 7, E, -, 2)                      (6, ., 9, 4, 3, 1, 7, E, -, 2) () () () ([, m, o, l, e,  , f, r, a, c, t, i, o, n, ])\n                                    (C, 1, 0, _, P, C)    (2, ., 1, 0, 8, 1, 7, E, -, 2)                      (2, ., 1, 0, 8, 1, 7, E, -, 2) () () () ([, m, o, l, e,  , f, r, a, c, t, i, o, n, ])\n                                                    ()                                ()                                                  () () () ()                                            ()\n                                 (D, e, n, s, i, t, y)                                ()                         (6, ., 0, 3, 9, 6, 9, E, 2) () () ()                      ([, k, g, /, m, ^, 3, ])\n               (P, h, a, s, e, F, r, a, c, t, i, o, n)                                ()                                           (1, E, 0) () () () ([, m, o, l, e,  , f, r, a, c, t, i, o, n, ])\n                           (M, o, l, a, r, M, a, s, s)       (6, ., 7, 7, 8, 7, 3, E, 1)                         (6, ., 7, 7, 8, 7, 3, E, 1) () () ()                   ([, k, g, /, k, m, o, l, ])\n                              (Z,  , f, a, c, t, o, r)                                ()                      (2, ., 4, 5, 5, 1, 1, E, -, 1) () () ()                                     ([, -, ])\n(H, e, a, t,  , C, a, p, a, c, i, t, y,  , (, C, p, ))                                ()                         (2, ., 4, 7, 4, 4, 3, E, 0) () () ()                   ([, k, J, /, k, g, *, K, ])\n(H, e, a, t,  , C, a, p, a, c, i, t, y,  , (, C, v, ))                                ()                         (1, ., 9, 3, 5, 4, 5, E, 0) () () ()                   ([, k, J, /, k, g, *, K, ])\n            (S, p, e, e, d,  , o, f,  , S, o, u, n, d)                                ()                         (7, ., 0, 4, 0, 3, 7, E, 2) () () ()                         ([, m, /, s, e, c, ])\n                              (E, n, t, h, a, l, p, y)    (-, 2, ., 7, 1, 5, 0, 5, E, 2)                      (-, 2, ., 7, 1, 5, 0, 5, E, 2) () () ()                         ([, k, J, /, k, g, ])\n                                 (E, n, t, r, o, p, y) (-, 6, ., 5, 4, 0, 4, 7, E, -, 1)                   (-, 6, ., 5, 4, 0, 4, 7, E, -, 1) () () ()                   ([, k, J, /, k, g, *, K, ])\n            (J, T,  , c, o, e, f, f, i, c, i, e, n, t)                                ()                   (-, 2, ., 3, 5, 6, 7, 3, E, -, 2) () () ()                         ([, K, /, b, a, r, ])\n                                                    ()                                ()                                                  () () () ()                                            ()\n                           (V, i, s, c, o, s, i, t, y)                                ()                      (1, ., 7, 1, 5, 5, 3, E, -, 4) () () ()                ([, k, g, /, m, *, s, e, c, ])\n                  (C, o, n, d, u, c, t, i, v, i, t, y)                                ()                         (9, ., 4, 7, 2, 8, E, -, 2) () () ()                         ([, W, /, m, *, K, ])\n            (S, u, r, f, a, c, e, T, e, n, s, i, o, n)                                ()                                                  () () () ()                               ([, N, /, m, ])\n                                                    ()                                ()                                                  () () () ()                                            ()\n                                                    ()                                ()                                                  () () () ()                                            ()\n                                                    ()                                ()                                                  () () () ()                                            ()\n                              (P, r, e, s, s, u, r, e)                                ()                                        (5, 5, ., 0) () () ()                               ([, b, a, r, ])\n                     (T, e, m, p, e, r, a, t, u, r, e)                                () (3, 2, 8, ., 1, 4, 9, 9, 9, 9, 9, 9, 9, 9, 9, 9, 9) () () ()                                     ([, K, ])\n                                                    ()                                ()                                                  () () () ()                                            ()\n                                       (M, o, d, e, l)                                ()                               (S, R, K, -, E, O, S) () () ()                                           (-)\n                     (M, i, x, i, n, g,  , R, u, l, e)                                ()                               (c, l, a, s, s, i, c) () () ()                                           (-)\n                                                    ()                                ()                                                  () () () ()                                            ()\n                                    (S, t, r, e, a, m)                                ()                                                  () () () ()                                           (-)\n                                                    ()                                ()                                                  () () () ()                                            ()\n                                                    ()                                ()                                                  () () () ()                                            ()\n                                                    ()                                ()                                                  () () () ()                                            ()\n                                                    ()                                ()                                                  () () () ()                                            ()\n"
     ]
    }
   ],
   "source": [
    "fluid1 = fluid('srk')\n",
    "fluid1.addComponent('water', 2.7)\n",
    "fluid1.addComponent('nitrogen', 0.7)\n",
    "fluid1.addComponent('CO2', 2.1)\n",
    "fluid1.addComponent('methane', 70.0)\n",
    "fluid1.addComponent('ethane', 10.0)\n",
    "fluid1.addComponent('propane', 5.0)\n",
    "fluid1.addComponent('i-butane', 3.0)\n",
    "fluid1.addComponent('n-butane', 2.0)\n",
    "fluid1.addComponent('i-pentane', 1.0)\n",
    "fluid1.addComponent('n-pentane', 1.0)\n",
    "fluid1.addTBPfraction('C6', 1.49985, 86.3 / 1000.0, 0.7432) #adding oil component mol/ molar mass (kg/mol) / relative density (gr/gr)\n",
    "fluid1.addTBPfraction('C7', 0.49985, 103.3 / 1000.0, 0.76432)\n",
    "fluid1.addTBPfraction('C8', 0.39985, 125.0 / 1000.0, 0.78432)\n",
    "fluid1.addTBPfraction('C9', 0.49985, 145.0 / 1000.0, 0.79432)\n",
    "fluid1.addTBPfraction('C10', 0.149985, 165.0 / 1000.0, 0.81)\n",
    "fluid1.setMixingRule('classic')\n",
    "fluid1.setMultiPhaseCheck(True)\n",
    "\n",
    "fluid1.setTemperature(55.0, 'C')\n",
    "fluid1.setPressure(55.0, 'bara')\n",
    "TPflash(fluid1)\n",
    "\n",
    "clearProcess()\n",
    "feedStream = stream(fluid1,\"feed fluid\")\n",
    "separator1 = separator3phase(feedStream)\n",
    "oilstream1 = separator1.getLiquidOutStream()\n",
    "valve1 = valve(oilstream1,10.0, 'valv1')\n",
    "runProcess()\n",
    "\n",
    "printFrame(oilstream1.getFluid())"
   ]
  },
  {
   "cell_type": "code",
   "execution_count": null,
   "metadata": {},
   "outputs": [],
   "source": []
  }
 ],
 "metadata": {
  "kernelspec": {
   "display_name": "Python 3",
   "language": "python",
   "name": "python3"
  },
  "language_info": {
   "codemirror_mode": {
    "name": "ipython",
    "version": 3
   },
   "file_extension": ".py",
   "mimetype": "text/x-python",
   "name": "python",
   "nbconvert_exporter": "python",
   "pygments_lexer": "ipython3",
   "version": "3.7.9-final"
  }
 },
 "nbformat": 4,
 "nbformat_minor": 2
}