{
 "cells": [
  {
   "cell_type": "markdown",
   "metadata": {},
   "source": [
    "## Example of how to use NeqSim for oil and gas processing\n"
   ]
  },
  {
   "cell_type": "code",
   "execution_count": 1,
   "metadata": {},
   "outputs": [],
   "source": [
    "import neqsim\n",
    "from neqsim.thermo.thermoTools import *\n",
    "from neqsim.process.processTools import *"
   ]
  },
  {
   "cell_type": "markdown",
   "metadata": {},
   "source": [
    "1. Create a well stream for a typical gas-condesate well stream"
   ]
  },
  {
   "cell_type": "code",
   "execution_count": 2,
   "metadata": {},
   "outputs": [
    {
     "ename": "NameError",
     "evalue": "name 'oilStabilizationProcess' is not defined",
     "output_type": "error",
     "traceback": [
      "\u001b[1;31m---------------------------------------------------------------------------\u001b[0m",
      "\u001b[1;31mNameError\u001b[0m                                 Traceback (most recent call last)",
      "\u001b[1;32m<ipython-input-2-dbc5824e1be5>\u001b[0m in \u001b[0;36m<module>\u001b[1;34m\u001b[0m\n\u001b[0;32m     27\u001b[0m \u001b[0mclearProcess\u001b[0m\u001b[1;33m(\u001b[0m\u001b[1;33m)\u001b[0m\u001b[1;33m\u001b[0m\u001b[1;33m\u001b[0m\u001b[0m\n\u001b[0;32m     28\u001b[0m \u001b[0mfeedStream\u001b[0m \u001b[1;33m=\u001b[0m \u001b[0mstream\u001b[0m\u001b[1;33m(\u001b[0m\u001b[0mfluid1\u001b[0m\u001b[1;33m,\u001b[0m\u001b[1;34m\"feed fluid\"\u001b[0m\u001b[1;33m)\u001b[0m\u001b[1;33m\u001b[0m\u001b[1;33m\u001b[0m\u001b[0m\n\u001b[1;32m---> 29\u001b[1;33m \u001b[0moilStabilizationProcess\u001b[0m\u001b[1;33m(\u001b[0m\u001b[0mfeedStream\u001b[0m\u001b[1;33m,\u001b[0m \u001b[0mseparationConditions\u001b[0m\u001b[1;33m)\u001b[0m\u001b[1;33m\u001b[0m\u001b[1;33m\u001b[0m\u001b[0m\n\u001b[0m\u001b[0;32m     30\u001b[0m \u001b[1;33m\u001b[0m\u001b[0m\n\u001b[0;32m     31\u001b[0m \u001b[0mgas1\u001b[0m \u001b[1;33m=\u001b[0m \u001b[0moilStabilizationProcess\u001b[0m\u001b[1;33m.\u001b[0m\u001b[0mgetStream\u001b[0m\u001b[1;33m(\u001b[0m\u001b[1;34m'gas'\u001b[0m\u001b[1;33m)\u001b[0m\u001b[1;33m\u001b[0m\u001b[1;33m\u001b[0m\u001b[0m\n",
      "\u001b[1;31mNameError\u001b[0m: name 'oilStabilizationProcess' is not defined"
     ]
    }
   ],
   "source": [
    "fluid1 = fluid('srk')\n",
    "fluid1.addComponent('water', 2.7)\n",
    "fluid1.addComponent('nitrogen', 0.7)\n",
    "fluid1.addComponent('CO2', 2.1)\n",
    "fluid1.addComponent('methane', 70.0)\n",
    "fluid1.addComponent('ethane', 10.0)\n",
    "fluid1.addComponent('propane', 5.0)\n",
    "fluid1.addComponent('i-butane', 3.0)\n",
    "fluid1.addComponent('n-butane', 2.0)\n",
    "fluid1.addComponent('i-pentane', 1.0)\n",
    "fluid1.addComponent('n-pentane', 1.0)\n",
    "fluid1.addTBPfraction('C6', 1.49985, 86.3 / 1000.0, 0.7432) #adding oil component mol/ molar mass (kg/mol) / relative density (gr/gr)\n",
    "fluid1.addTBPfraction('C7', 0.49985, 103.3 / 1000.0, 0.76432)\n",
    "fluid1.addTBPfraction('C8', 0.39985, 125.0 / 1000.0, 0.78432)\n",
    "fluid1.addTBPfraction('C9', 0.49985, 145.0 / 1000.0, 0.79432)\n",
    "fluid1.addTBPfraction('C10', 0.149985, 165.0 / 1000.0, 0.81)\n",
    "fluid1.setMixingRule('classic')\n",
    "fluid1.setMultiPhaseCheck(True)\n",
    "\n",
    "fluid1.setTemperature(55.0, 'C')\n",
    "fluid1.setPressure(55.0, 'bara')\n",
    "TPflash(fluid1)\n",
    "\n",
    "\n",
    "separationConditions = [[35.0, 55.0], [10.0, 25.0], [1.2, 30.0]]\n",
    "\n",
    "clearProcess()\n",
    "feedStream = stream(fluid1,\"feed fluid\")\n",
    "oilStabilizationProcess(feedStream, separationConditions)\n",
    "\n",
    "gas1 = oilStabilizationProcess.getStream('gas')\n",
    "oil1 = oilStabilizationProcess.getStream('oil')\n",
    "aq1 = oilStabilizationProcess.getStream('aqueous')\n",
    "\n",
    "\n",
    "oilstream1 = separator1.getLiquidOutStream()\n",
    "valve1 = valve(oilstream1,10.0, 'valv1')\n",
    "runProcess()\n",
    "valve1.displayResults()"
   ]
  },
  {
   "cell_type": "code",
   "execution_count": null,
   "metadata": {},
   "outputs": [],
   "source": []
  }
 ],
 "metadata": {
  "kernelspec": {
   "display_name": "Python 3",
   "language": "python",
   "name": "python3"
  },
  "language_info": {
   "codemirror_mode": {
    "name": "ipython",
    "version": 3
   },
   "file_extension": ".py",
   "mimetype": "text/x-python",
   "name": "python",
   "nbconvert_exporter": "python",
   "pygments_lexer": "ipython3",
   "version": "3.7.1"
  }
 },
 "nbformat": 4,
 "nbformat_minor": 2
}
